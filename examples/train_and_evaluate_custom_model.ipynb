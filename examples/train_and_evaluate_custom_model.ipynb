{
 "cells": [
  {
   "cell_type": "markdown",
   "metadata": {},
   "source": [
    "# Business Entity Recognition Demo\n",
    "\n",
    "This notebook is designed to demonstrate how easy it is to use the SAP AI Business Services - Business Entity Recognition service for classification tasks. In this demo, we train a model and evaluate its performance on a small example dataset.\n",
    "\n",
    "For the demo, we prepared this Jupyter Notebook which demonstrates the use of this client library to invoke the most important functions of the Business Entity Recognition REST API. "
   ]
  },
  {
   "cell_type": "markdown",
   "metadata": {},
   "source": [
    "## Fetch python module and repo containing example dataset\n",
    "\n",
    "This notebook requires the python package containing the client and a dataset to train a model on. Both are fetched in the cell below.\n",
    "\n",
    "An example dataset is provided in the repo, you can exlpore the structure of the dataset required [here](https://github.wdf.sap.corp/i329525/BER-Client/tree/master/examples/data)."
   ]
  },
  {
   "cell_type": "markdown",
   "metadata": {},
   "source": [
    "## Settings\n",
    "\n",
    "The settings under `Environment specific configuration` require a valid service key for the Business Entity Recognition service on SAP Cloud Plattform.\n",
    "\n",
    "The keys in the service key needed here are named exactly as the variables, specifically:\n",
    "- url: The URL of the service deployment provided in the outermost hierachy of the service key json file\n",
    "- uaa_url: The URL of the UAA server used for authentication provided in the __uaa__ of the service key json file\n",
    "- uaa_clientid: The clientid used for authentication to the UAA server provided in the __uaa__ of the service key json file\n",
    "- uaa_clientsecret: The clientsecret used for authentication to the UAA server provided in the __uaa__ of the service key json file\n",
    "\n",
    "Service key json has to be copied to config.json file.\n",
    "\n",
    "For the `Model specific configuration` the parameters are explained by a comment below."
   ]
  },
  {
   "cell_type": "markdown",
   "metadata": {
    "ExecuteTime": {
     "end_time": "2019-11-09T04:41:04.535541Z",
     "start_time": "2019-11-09T04:41:04.531191Z"
    }
   },
   "source": [
    "\n",
    "# Model specific configuration\n",
    "model_name = \"\" # choose an arbitrary model name for the model trained here, will be assigned to the trained model for identification purposes\n",
    "dataset_folder = \"data\" # should point to (relative or absolute) path containing dataset"
   ]
  },
  {
   "cell_type": "code",
   "execution_count": null,
   "metadata": {},
   "outputs": [],
   "source": [
    "# update working directory path\n",
    "\n",
    "import os\n",
    "\n",
    "os.chdir('../')\n",
    "\n",
    "#print(os.getcwd())\n",
    "\n",
    "import pathlib\n",
    "pathlib.Path().absolute()"
   ]
  },
  {
   "cell_type": "code",
   "execution_count": null,
   "metadata": {},
   "outputs": [],
   "source": [
    "import pathlib\n",
    "pathlib.Path().absolute()"
   ]
  },
  {
   "cell_type": "markdown",
   "metadata": {},
   "source": [
    "## Initialize Demo"
   ]
  },
  {
   "cell_type": "code",
   "execution_count": null,
   "metadata": {},
   "outputs": [],
   "source": [
    "from sap_ber_client import ber_api_client\n",
    "from pprint import pprint\n",
    "import json"
   ]
  },
  {
   "cell_type": "code",
   "execution_count": null,
   "metadata": {},
   "outputs": [],
   "source": [
    "import importlib\n",
    "# import sap_ber_client.ber_api_client\n",
    "\n",
    "importlib.reload(ber_api_client)"
   ]
  },
  {
   "cell_type": "code",
   "execution_count": null,
   "metadata": {},
   "outputs": [],
   "source": [
    "import json\n",
    "config_file = os.getcwd() + '/examples/config.json'\n",
    "with open(config_file, 'rb') as config:\n",
    "    config_json = json.load(config)\n",
    "    config.close()"
   ]
  },
  {
   "cell_type": "code",
   "execution_count": null,
   "metadata": {},
   "outputs": [],
   "source": [
    "# Instaniate object used to communicate with DC REST API\n",
    "# my_ber_client = pyber.Pyber(url, uaa_clientid, uaa_clientsecret, uaa_url)\n",
    "\n",
    "url = config_json['url']\n",
    "uaa_clientid = config_json['uaa']['clientid']\n",
    "uaa_clientsecret = config_json['uaa']['clientsecret']\n",
    "uaa_url = config_json['uaa']['url']\n",
    "\n",
    "my_ber_client = ber_api_client.BER_API_Client(url, uaa_clientid, uaa_clientsecret, uaa_url)\n",
    "\n",
    "#print(my_ber_client.base_url)"
   ]
  },
  {
   "cell_type": "markdown",
   "metadata": {},
   "source": [
    "## Display access token"
   ]
  },
  {
   "cell_type": "code",
   "execution_count": null,
   "metadata": {
    "ExecuteTime": {
     "end_time": "2019-11-09T03:52:13.722992Z",
     "start_time": "2019-11-09T03:52:13.391937Z"
    }
   },
   "outputs": [],
   "source": [
    "# Token can be used to interact with e.g. swagger UI to explore BER API\n",
    "#print(my_ber_client.session.headers)\n",
    "#print(\"\\nYou can use this token to Authorize here and explore the API via Swagger UI: \\n{}api/v1/\".format(url))"
   ]
  },
  {
   "cell_type": "markdown",
   "metadata": {},
   "source": [
    "## Create Dataset for training of a new model"
   ]
  },
  {
   "cell_type": "code",
   "execution_count": null,
   "metadata": {
    "ExecuteTime": {
     "end_time": "2019-11-09T03:53:04.220110Z",
     "start_time": "2019-11-09T03:53:03.806452Z"
    }
   },
   "outputs": [],
   "source": [
    "# Create Training dataset\n",
    "response = my_ber_client.create_dataset()\n",
    "pprint(response.json())"
   ]
  },
  {
   "cell_type": "code",
   "execution_count": null,
   "metadata": {},
   "outputs": [],
   "source": [
    "training_dataset_id = response.json()[\"data\"][\"datasetId\"]\n",
    "print(training_dataset_id)"
   ]
  },
  {
   "cell_type": "code",
   "execution_count": null,
   "metadata": {
    "ExecuteTime": {
     "end_time": "2019-09-04T09:26:01.068519Z",
     "start_time": "2019-09-04T09:23:45.230188Z"
    },
    "scrolled": true
   },
   "outputs": [],
   "source": [
    "# Upload training documents to the dataset from training directory\n",
    "import os\n",
    "dataset_folder = os.getcwd() + '/examples/data/english_training_dataset_annotated.json'\n",
    "print(\"Uploading training documents to the dataset\")\n",
    "response = my_ber_client.upload_document_to_dataset(training_dataset_id, dataset_folder)\n",
    "print(\"Finished uploading training documents to the dataset\")\n",
    "pprint(response.json())"
   ]
  },
  {
   "cell_type": "code",
   "execution_count": null,
   "metadata": {
    "ExecuteTime": {
     "end_time": "2019-09-04T09:36:49.651509Z",
     "start_time": "2019-09-04T09:36:49.370143Z"
    }
   },
   "outputs": [],
   "source": [
    "# Pretty print the dataset statistics\n",
    "print(\"Dataset statistics\")\n",
    "dataset_stats = my_ber_client.get_dataset(training_dataset_id)\n",
    "pprint(dataset_stats.json())"
   ]
  },
  {
   "cell_type": "markdown",
   "metadata": {},
   "source": [
    "## Training"
   ]
  },
  {
   "cell_type": "code",
   "execution_count": null,
   "metadata": {},
   "outputs": [],
   "source": [
    "model_name = \"for-client-lib\""
   ]
  },
  {
   "cell_type": "code",
   "execution_count": null,
   "metadata": {
    "ExecuteTime": {
     "end_time": "2019-09-04T09:49:52.977862Z",
     "start_time": "2019-09-04T09:49:52.633337Z"
    }
   },
   "outputs": [],
   "source": [
    "# Train the model\n",
    "    \n",
    "print(\"Start training job from model with modelName {}\".format(model_name))\n",
    "response = my_ber_client.train_model(model_name, training_dataset_id)\n",
    "print(response.json())"
   ]
  },
  {
   "cell_type": "code",
   "execution_count": null,
   "metadata": {},
   "outputs": [],
   "source": [
    "print(response.json())\n",
    "jobid = response.json()[\"data\"][\"jobId\"]\n",
    "print(jobid)"
   ]
  },
  {
   "cell_type": "code",
   "execution_count": null,
   "metadata": {},
   "outputs": [],
   "source": [
    "#Get the status of job\n",
    "r = my_ber_client.get_training_status(jobid)\n",
    "pprint(r.json())"
   ]
  },
  {
   "cell_type": "code",
   "execution_count": null,
   "metadata": {},
   "outputs": [],
   "source": [
    "#Get recently submitted jobs\n",
    "\n",
    "response_recent = my_ber_client.get_recently_submitted_training_jobs_list()\n",
    "pprint(response_recent.json())"
   ]
  },
  {
   "cell_type": "markdown",
   "metadata": {},
   "source": [
    "## Model"
   ]
  },
  {
   "cell_type": "code",
   "execution_count": null,
   "metadata": {
    "ExecuteTime": {
     "end_time": "2019-09-04T10:01:14.801991Z",
     "start_time": "2019-09-04T10:01:14.229766Z"
    }
   },
   "outputs": [],
   "source": [
    "# Get trained model versions\n",
    "response = my_ber_client.get_trained_model_versions(model_name)\n",
    "pprint(response.json())"
   ]
  },
  {
   "cell_type": "code",
   "execution_count": null,
   "metadata": {},
   "outputs": [],
   "source": [
    "# Get trained model version\n",
    "model_version = 1 \n",
    "response = my_ber_client.get_trained_model_version(model_name, model_version)\n",
    "pprint(response.json())"
   ]
  },
  {
   "cell_type": "code",
   "execution_count": null,
   "metadata": {},
   "outputs": [],
   "source": [
    "#Get all models\n",
    "response = my_ber_client.get_trained_models()\n",
    "pprint(response.json())"
   ]
  },
  {
   "cell_type": "markdown",
   "metadata": {},
   "source": [
    "## Deployment"
   ]
  },
  {
   "cell_type": "code",
   "execution_count": null,
   "metadata": {},
   "outputs": [],
   "source": [
    "# Deploy model\n",
    "model_version = 1\n",
    "response = my_ber_client.deploy_model(model_name, model_version) \n",
    "pprint(response.json())\n",
    "deployment_id = response.json()['data']['deploymentId']"
   ]
  },
  {
   "cell_type": "code",
   "execution_count": null,
   "metadata": {},
   "outputs": [],
   "source": [
    "# Get all deployments\n",
    "response = my_ber_client.get_deployments() \n",
    "pprint(response.json())"
   ]
  },
  {
   "cell_type": "code",
   "execution_count": null,
   "metadata": {},
   "outputs": [],
   "source": [
    "#Get deployment\n",
    "response = my_ber_client.get_deployed_model(deployment_id) \n",
    "pprint(response.json())"
   ]
  },
  {
   "cell_type": "code",
   "execution_count": null,
   "metadata": {},
   "outputs": [],
   "source": [
    "# Undeploy model\n",
    "response = my_ber_client.undeploy_model(deployment_id) \n",
    "pprint(response.json())\n"
   ]
  },
  {
   "cell_type": "markdown",
   "metadata": {},
   "source": [
    "## Inference\n",
    "\n",
    "\n",
    "<!-- This runs inference on all documents in the test set (stratification is done inside DC service and reproduced here).  \n",
    "We are working on exposing the stratification results so that this cell can be shortend. -->"
   ]
  },
  {
   "cell_type": "code",
   "execution_count": null,
   "metadata": {},
   "outputs": [],
   "source": [
    "# Initialize variable if not initialized (when using only inference after 1st time)\n",
    "model_name = \"for-client-lib\"\n",
    "model_version = 1"
   ]
  },
  {
   "cell_type": "code",
   "execution_count": null,
   "metadata": {},
   "outputs": [],
   "source": [
    "# post inference job\n",
    "text = 'From: John Doe, john.doe@company.com Sent: Tuesday, December 18, 2018 2:16 PM To: John Doe, john.doe@company.com Subject: FW: M40262 Sony - cuenta actualizada  Hi Ankur  Please clear the payment that it’s on the esprinet account according to the below RA:  596501215 -3.200,00 5022208353 27.195,00 LIQ. PRONTO PAGO-271,95 23.723,05 BR Madalina'\n",
    "response = my_ber_client.post_inference_job(text, model_name, model_version)\n",
    "pprint(response.json())\n",
    "inference_jobid = response.json()[\"data\"][\"id\"]"
   ]
  },
  {
   "cell_type": "code",
   "execution_count": null,
   "metadata": {},
   "outputs": [],
   "source": [
    "#Get inference result\n",
    "response = my_ber_client.get_inference_job(inference_jobid)\n",
    "pprint(response.json())"
   ]
  },
  {
   "cell_type": "code",
   "execution_count": null,
   "metadata": {},
   "outputs": [],
   "source": [
    "# Create Inference dataset\n",
    "response = my_ber_client.create_dataset(\"inference\")\n",
    "pprint(response.json())\n",
    "inference_dataset_id = response.json()[\"data\"][\"datasetId\"]\n",
    "print(inference_dataset_id)\n",
    "inference_dataset_folder = os.getcwd() + '/examples/data/batch_inference.json'\n",
    "print(\"Uploading inference documents to the dataset\")\n",
    "response = my_ber_client.upload_document_to_dataset(inference_dataset_id, inference_dataset_folder)\n",
    "print(\"Finished uploading inference documents to the dataset\")\n",
    "pprint(response.json())\n",
    "\n",
    "# post batch inference job\n",
    "response = my_ber_client.post_batch_inference_job(inference_dataset_id, model_name, model_version)\n",
    "pprint(response.json())\n",
    "batch_inference_job_id = response.json()[\"data\"][\"id\"]\n"
   ]
  },
  {
   "cell_type": "code",
   "execution_count": null,
   "metadata": {},
   "outputs": [],
   "source": [
    "#Get batch inference result\n",
    "response = my_ber_client.get_inference_job(batch_inference_job_id)\n",
    "pprint(response.json())\n",
    "\n",
    "#Get batch inference result file\n",
    "response = my_ber_client.get_batch_inference_job_result(batch_inference_job_id)\n",
    "pprint(response.json())"
   ]
  },
  {
   "cell_type": "markdown",
   "metadata": {},
   "source": [
    "## Deleting Datasets"
   ]
  },
  {
   "cell_type": "code",
   "execution_count": null,
   "metadata": {},
   "outputs": [],
   "source": [
    "#deleting training dataset\n",
    "response = my_ber_client.delete_dataset(training_dataset_id)\n",
    "pprint(response.json())\n",
    "\n",
    "#deleting inference dataset\n",
    "response = my_ber_client.delete_dataset(inference_dataset_id)\n",
    "pprint(response.json())"
   ]
  }
 ],
 "metadata": {
  "kernelspec": {
   "display_name": "Python 3",
   "language": "python",
   "name": "python3"
  },
  "language_info": {
   "codemirror_mode": {
    "name": "ipython",
    "version": 3
   },
   "file_extension": ".py",
   "mimetype": "text/x-python",
   "name": "python",
   "nbconvert_exporter": "python",
   "pygments_lexer": "ipython3",
   "version": "3.6.8"
  },
  "toc": {
   "base_numbering": 1,
   "nav_menu": {},
   "number_sections": true,
   "sideBar": true,
   "skip_h1_title": false,
   "title_cell": "Table of Contents",
   "title_sidebar": "Contents",
   "toc_cell": false,
   "toc_position": {},
   "toc_section_display": true,
   "toc_window_display": false
  },
  "varInspector": {
   "cols": {
    "lenName": 16,
    "lenType": 16,
    "lenVar": 40
   },
   "kernels_config": {
    "python": {
     "delete_cmd_postfix": "",
     "delete_cmd_prefix": "del ",
     "library": "var_list.py",
     "varRefreshCmd": "print(var_dic_list())"
    },
    "r": {
     "delete_cmd_postfix": ") ",
     "delete_cmd_prefix": "rm(",
     "library": "var_list.r",
     "varRefreshCmd": "cat(var_dic_list()) "
    }
   },
   "types_to_exclude": [
    "module",
    "function",
    "builtin_function_or_method",
    "instance",
    "_Feature"
   ],
   "window_display": false
  }
 },
 "nbformat": 4,
 "nbformat_minor": 4
}
